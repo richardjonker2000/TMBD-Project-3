{
 "cells": [
  {
   "cell_type": "markdown",
   "metadata": {},
   "source": [
    "# Self-Organising Maps"
   ]
  },
  {
   "cell_type": "code",
   "execution_count": 1,
   "metadata": {},
   "outputs": [
    {
     "data": {
      "text/html": [
       "<div>\n",
       "<style scoped>\n",
       "    .dataframe tbody tr th:only-of-type {\n",
       "        vertical-align: middle;\n",
       "    }\n",
       "\n",
       "    .dataframe tbody tr th {\n",
       "        vertical-align: top;\n",
       "    }\n",
       "\n",
       "    .dataframe thead th {\n",
       "        text-align: right;\n",
       "    }\n",
       "</style>\n",
       "<table border=\"1\" class=\"dataframe\">\n",
       "  <thead>\n",
       "    <tr style=\"text-align: right;\">\n",
       "      <th></th>\n",
       "      <th>Year AD</th>\n",
       "      <th>Year BS</th>\n",
       "      <th>Crop</th>\n",
       "      <th>Area</th>\n",
       "      <th>Production</th>\n",
       "      <th>Yield</th>\n",
       "    </tr>\n",
       "  </thead>\n",
       "  <tbody>\n",
       "    <tr>\n",
       "      <th>0</th>\n",
       "      <td>1984/85</td>\n",
       "      <td>2041/42</td>\n",
       "      <td>OILSEED</td>\n",
       "      <td>127820</td>\n",
       "      <td>84030</td>\n",
       "      <td>657</td>\n",
       "    </tr>\n",
       "    <tr>\n",
       "      <th>1</th>\n",
       "      <td>1985/86</td>\n",
       "      <td>2042/43</td>\n",
       "      <td>OILSEED</td>\n",
       "      <td>137920</td>\n",
       "      <td>78390</td>\n",
       "      <td>568</td>\n",
       "    </tr>\n",
       "    <tr>\n",
       "      <th>2</th>\n",
       "      <td>1986/87</td>\n",
       "      <td>2043/44</td>\n",
       "      <td>OILSEED</td>\n",
       "      <td>142890</td>\n",
       "      <td>82500</td>\n",
       "      <td>577</td>\n",
       "    </tr>\n",
       "    <tr>\n",
       "      <th>3</th>\n",
       "      <td>1987/88</td>\n",
       "      <td>2044/45</td>\n",
       "      <td>OILSEED</td>\n",
       "      <td>151490</td>\n",
       "      <td>94370</td>\n",
       "      <td>623</td>\n",
       "    </tr>\n",
       "    <tr>\n",
       "      <th>4</th>\n",
       "      <td>1988/89</td>\n",
       "      <td>2045/46</td>\n",
       "      <td>OILSEED</td>\n",
       "      <td>154860</td>\n",
       "      <td>99190</td>\n",
       "      <td>641</td>\n",
       "    </tr>\n",
       "    <tr>\n",
       "      <th>5</th>\n",
       "      <td>1989/90</td>\n",
       "      <td>2046/47</td>\n",
       "      <td>OILSEED</td>\n",
       "      <td>153660</td>\n",
       "      <td>98060</td>\n",
       "      <td>638</td>\n",
       "    </tr>\n",
       "    <tr>\n",
       "      <th>6</th>\n",
       "      <td>1990/91</td>\n",
       "      <td>2047/48</td>\n",
       "      <td>OILSEED</td>\n",
       "      <td>156310</td>\n",
       "      <td>92140</td>\n",
       "      <td>589</td>\n",
       "    </tr>\n",
       "    <tr>\n",
       "      <th>7</th>\n",
       "      <td>1991/92</td>\n",
       "      <td>2048/49</td>\n",
       "      <td>OILSEED</td>\n",
       "      <td>154570</td>\n",
       "      <td>87840</td>\n",
       "      <td>568</td>\n",
       "    </tr>\n",
       "    <tr>\n",
       "      <th>8</th>\n",
       "      <td>1992/93</td>\n",
       "      <td>2049/50</td>\n",
       "      <td>OILSEED</td>\n",
       "      <td>165240</td>\n",
       "      <td>93690</td>\n",
       "      <td>567</td>\n",
       "    </tr>\n",
       "    <tr>\n",
       "      <th>9</th>\n",
       "      <td>1993/94</td>\n",
       "      <td>2050/51</td>\n",
       "      <td>OILSEED</td>\n",
       "      <td>177486</td>\n",
       "      <td>107535</td>\n",
       "      <td>606</td>\n",
       "    </tr>\n",
       "  </tbody>\n",
       "</table>\n",
       "</div>"
      ],
      "text/plain": [
       "   Year AD  Year BS     Crop    Area  Production  Yield\n",
       "0  1984/85  2041/42  OILSEED  127820       84030    657\n",
       "1  1985/86  2042/43  OILSEED  137920       78390    568\n",
       "2  1986/87  2043/44  OILSEED  142890       82500    577\n",
       "3  1987/88  2044/45  OILSEED  151490       94370    623\n",
       "4  1988/89  2045/46  OILSEED  154860       99190    641\n",
       "5  1989/90  2046/47  OILSEED  153660       98060    638\n",
       "6  1990/91  2047/48  OILSEED  156310       92140    589\n",
       "7  1991/92  2048/49  OILSEED  154570       87840    568\n",
       "8  1992/93  2049/50  OILSEED  165240       93690    567\n",
       "9  1993/94  2050/51  OILSEED  177486      107535    606"
      ]
     },
     "execution_count": 1,
     "metadata": {},
     "output_type": "execute_result"
    }
   ],
   "source": [
    "import pandas as pd\n",
    "import numpy as np\n",
    "from matplotlib import pyplot as plt\n",
    "from matplotlib import patches as patches\n",
    "import matplotlib.lines as mlines\n",
    "\n",
    "# reading data\n",
    "data = pd.read_csv(\"cash-crops-nepal.csv\")\n",
    "# visualize some data\n",
    "data.iloc[:10,:]"
   ]
  },
  {
   "cell_type": "code",
   "execution_count": 2,
   "metadata": {},
   "outputs": [
    {
     "data": {
      "text/plain": [
       "(105, 6)"
      ]
     },
     "execution_count": 2,
     "metadata": {},
     "output_type": "execute_result"
    }
   ],
   "source": [
    "data.shape"
   ]
  },
  {
   "cell_type": "code",
   "execution_count": 3,
   "metadata": {},
   "outputs": [
    {
     "name": "stdout",
     "output_type": "stream",
     "text": [
      "['OILSEED' 'POTATO' 'TOBACCO' 'SUGARCANE' 'JUTE']\n"
     ]
    }
   ],
   "source": [
    "# What are the different crops\n",
    "print(data.iloc[:,2].unique())"
   ]
  },
  {
   "cell_type": "markdown",
   "metadata": {},
   "source": [
    "We will not use \"Crop\" labels for training SOM. But we will use it to check if the clustering by SOM worked fine or not. We will also drop the “Year AD” and “Year BS” columns."
   ]
  },
  {
   "cell_type": "code",
   "execution_count": 4,
   "metadata": {},
   "outputs": [
    {
     "data": {
      "text/html": [
       "<div>\n",
       "<style scoped>\n",
       "    .dataframe tbody tr th:only-of-type {\n",
       "        vertical-align: middle;\n",
       "    }\n",
       "\n",
       "    .dataframe tbody tr th {\n",
       "        vertical-align: top;\n",
       "    }\n",
       "\n",
       "    .dataframe thead th {\n",
       "        text-align: right;\n",
       "    }\n",
       "</style>\n",
       "<table border=\"1\" class=\"dataframe\">\n",
       "  <thead>\n",
       "    <tr style=\"text-align: right;\">\n",
       "      <th></th>\n",
       "      <th>Area</th>\n",
       "      <th>Production</th>\n",
       "      <th>Yield</th>\n",
       "    </tr>\n",
       "  </thead>\n",
       "  <tbody>\n",
       "    <tr>\n",
       "      <th>0</th>\n",
       "      <td>127820</td>\n",
       "      <td>84030</td>\n",
       "      <td>657</td>\n",
       "    </tr>\n",
       "    <tr>\n",
       "      <th>37</th>\n",
       "      <td>129019</td>\n",
       "      <td>1313717</td>\n",
       "      <td>10182</td>\n",
       "    </tr>\n",
       "    <tr>\n",
       "      <th>97</th>\n",
       "      <td>12265</td>\n",
       "      <td>15545</td>\n",
       "      <td>1267</td>\n",
       "    </tr>\n",
       "    <tr>\n",
       "      <th>80</th>\n",
       "      <td>59477</td>\n",
       "      <td>2247990</td>\n",
       "      <td>37796</td>\n",
       "    </tr>\n",
       "    <tr>\n",
       "      <th>8</th>\n",
       "      <td>165240</td>\n",
       "      <td>93690</td>\n",
       "      <td>567</td>\n",
       "    </tr>\n",
       "    <tr>\n",
       "      <th>86</th>\n",
       "      <td>19840</td>\n",
       "      <td>23452</td>\n",
       "      <td>1182</td>\n",
       "    </tr>\n",
       "    <tr>\n",
       "      <th>88</th>\n",
       "      <td>13554</td>\n",
       "      <td>17624</td>\n",
       "      <td>1300</td>\n",
       "    </tr>\n",
       "    <tr>\n",
       "      <th>62</th>\n",
       "      <td>3003</td>\n",
       "      <td>3016</td>\n",
       "      <td>1004</td>\n",
       "    </tr>\n",
       "    <tr>\n",
       "      <th>75</th>\n",
       "      <td>46360</td>\n",
       "      <td>1629300</td>\n",
       "      <td>35145</td>\n",
       "    </tr>\n",
       "    <tr>\n",
       "      <th>7</th>\n",
       "      <td>154570</td>\n",
       "      <td>87840</td>\n",
       "      <td>568</td>\n",
       "    </tr>\n",
       "  </tbody>\n",
       "</table>\n",
       "</div>"
      ],
      "text/plain": [
       "      Area  Production  Yield\n",
       "0   127820       84030    657\n",
       "37  129019     1313717  10182\n",
       "97   12265       15545   1267\n",
       "80   59477     2247990  37796\n",
       "8   165240       93690    567\n",
       "86   19840       23452   1182\n",
       "88   13554       17624   1300\n",
       "62    3003        3016   1004\n",
       "75   46360     1629300  35145\n",
       "7   154570       87840    568"
      ]
     },
     "execution_count": 4,
     "metadata": {},
     "output_type": "execute_result"
    }
   ],
   "source": [
    "# shuffling data\n",
    "agri_data = data.iloc[np.random.permutation(len(data))]\n",
    "trunc_data = agri_data[[\"Area\", \"Production\", \"Yield\"]]\n",
    "trunc_data.iloc[:10,:]"
   ]
  },
  {
   "cell_type": "code",
   "execution_count": 5,
   "metadata": {},
   "outputs": [
    {
     "data": {
      "text/html": [
       "<div>\n",
       "<style scoped>\n",
       "    .dataframe tbody tr th:only-of-type {\n",
       "        vertical-align: middle;\n",
       "    }\n",
       "\n",
       "    .dataframe tbody tr th {\n",
       "        vertical-align: top;\n",
       "    }\n",
       "\n",
       "    .dataframe thead th {\n",
       "        text-align: right;\n",
       "    }\n",
       "</style>\n",
       "<table border=\"1\" class=\"dataframe\">\n",
       "  <thead>\n",
       "    <tr style=\"text-align: right;\">\n",
       "      <th></th>\n",
       "      <th>Area</th>\n",
       "      <th>Production</th>\n",
       "      <th>Yield</th>\n",
       "    </tr>\n",
       "  </thead>\n",
       "  <tbody>\n",
       "    <tr>\n",
       "      <th>0</th>\n",
       "      <td>0.671221</td>\n",
       "      <td>0.035365</td>\n",
       "      <td>0.016336</td>\n",
       "    </tr>\n",
       "    <tr>\n",
       "      <th>37</th>\n",
       "      <td>0.677518</td>\n",
       "      <td>0.552887</td>\n",
       "      <td>0.253177</td>\n",
       "    </tr>\n",
       "    <tr>\n",
       "      <th>97</th>\n",
       "      <td>0.064407</td>\n",
       "      <td>0.006542</td>\n",
       "      <td>0.031504</td>\n",
       "    </tr>\n",
       "    <tr>\n",
       "      <th>80</th>\n",
       "      <td>0.312332</td>\n",
       "      <td>0.946083</td>\n",
       "      <td>0.939802</td>\n",
       "    </tr>\n",
       "    <tr>\n",
       "      <th>8</th>\n",
       "      <td>0.867725</td>\n",
       "      <td>0.039430</td>\n",
       "      <td>0.014099</td>\n",
       "    </tr>\n",
       "    <tr>\n",
       "      <th>86</th>\n",
       "      <td>0.104186</td>\n",
       "      <td>0.009870</td>\n",
       "      <td>0.029391</td>\n",
       "    </tr>\n",
       "    <tr>\n",
       "      <th>88</th>\n",
       "      <td>0.071176</td>\n",
       "      <td>0.007417</td>\n",
       "      <td>0.032325</td>\n",
       "    </tr>\n",
       "    <tr>\n",
       "      <th>62</th>\n",
       "      <td>0.015770</td>\n",
       "      <td>0.001269</td>\n",
       "      <td>0.024965</td>\n",
       "    </tr>\n",
       "    <tr>\n",
       "      <th>75</th>\n",
       "      <td>0.243450</td>\n",
       "      <td>0.685703</td>\n",
       "      <td>0.873884</td>\n",
       "    </tr>\n",
       "    <tr>\n",
       "      <th>7</th>\n",
       "      <td>0.811694</td>\n",
       "      <td>0.036968</td>\n",
       "      <td>0.014123</td>\n",
       "    </tr>\n",
       "  </tbody>\n",
       "</table>\n",
       "</div>"
      ],
      "text/plain": [
       "        Area  Production     Yield\n",
       "0   0.671221    0.035365  0.016336\n",
       "37  0.677518    0.552887  0.253177\n",
       "97  0.064407    0.006542  0.031504\n",
       "80  0.312332    0.946083  0.939802\n",
       "8   0.867725    0.039430  0.014099\n",
       "86  0.104186    0.009870  0.029391\n",
       "88  0.071176    0.007417  0.032325\n",
       "62  0.015770    0.001269  0.024965\n",
       "75  0.243450    0.685703  0.873884\n",
       "7   0.811694    0.036968  0.014123"
      ]
     },
     "execution_count": 5,
     "metadata": {},
     "output_type": "execute_result"
    }
   ],
   "source": [
    "# (custom choice for) normalizing data\n",
    "trunc_data = trunc_data / trunc_data.max()\n",
    "trunc_data.iloc[:10,:]"
   ]
  },
  {
   "cell_type": "markdown",
   "metadata": {},
   "source": [
    "## Training SOM"
   ]
  },
  {
   "cell_type": "markdown",
   "metadata": {},
   "source": [
    "Now let’s train the data in a 3 x 3 SOM network using 3 input features. "
   ]
  },
  {
   "cell_type": "code",
   "execution_count": 6,
   "metadata": {},
   "outputs": [
    {
     "data": {
      "image/png": "[encoded data removed]",
      "text/plain": [
       "<Figure size 432x288 with 1 Axes>"
      ]
     },
     "metadata": {
      "needs_background": "light"
     },
     "output_type": "display_data"
    }
   ],
   "source": [
    "from our_som1 import SOM\n",
    "\n",
    "# som = SOM(x_size, y_size, num_features)\n",
    "agri_som = SOM(3,3,3)\n",
    "\n",
    "# Initial weights\n",
    "init_fig = plt.figure()\n",
    "agri_som.show_plot(init_fig, 1, 0)\n",
    "plt.show()"
   ]
  },
  {
   "cell_type": "markdown",
   "metadata": {},
   "source": [
    "Random weights (3 features) are given to each of 9 (3×3) neurons. The above figure shows how the neural network looks like in the beginning."
   ]
  },
  {
   "cell_type": "code",
   "execution_count": 7,
   "metadata": {},
   "outputs": [
    {
     "name": "stderr",
     "output_type": "stream",
     "text": [
      "c:\\Users\\iCETEE\\Documents\\GitHub\\TMBD-Project-3\\our_som1.py:151: MatplotlibDeprecationWarning: Passing non-integers as three-element position specification is deprecated since 3.3 and will be removed two minor releases later.\n",
      "  ax = fig.add_subplot(2, 5, position, aspect=\"equal\")\n"
     ]
    },
    {
     "name": "stdout",
     "output_type": "stream",
     "text": [
      "SOM training epoches 20\n",
      "neighborhood radius  2.6878753795222865\n",
      "learning rate  0.009048374180359595\n",
      "-------------------------------------\n",
      "SOM training epoches 40\n",
      "neighborhood radius  2.4082246852806923\n",
      "learning rate  0.008187307530779819\n",
      "-------------------------------------\n",
      "SOM training epoches 60\n",
      "neighborhood radius  2.157669279974593\n",
      "learning rate  0.007408182206817179\n",
      "-------------------------------------\n",
      "SOM training epoches 80\n",
      "neighborhood radius  1.9331820449317627\n",
      "learning rate  0.006703200460356393\n",
      "-------------------------------------\n",
      "SOM training epoches 100\n",
      "neighborhood radius  1.7320508075688772\n",
      "learning rate  0.006065306597126334\n",
      "-------------------------------------\n",
      "SOM training epoches 120\n",
      "neighborhood radius  1.5518455739153598\n",
      "learning rate  0.005488116360940265\n",
      "-------------------------------------\n",
      "SOM training epoches 140\n",
      "neighborhood radius  1.3903891703159093\n",
      "learning rate  0.004965853037914096\n",
      "-------------------------------------\n",
      "SOM training epoches 160\n",
      "neighborhood radius  1.2457309396155174\n",
      "learning rate  0.004493289641172216\n",
      "-------------------------------------\n",
      "SOM training epoches 180\n",
      "neighborhood radius  1.1161231740339044\n",
      "learning rate  0.004065696597405992\n",
      "-------------------------------------\n",
      "SOM training epoches 200\n",
      "neighborhood radius  1.0\n",
      "learning rate  0.0036787944117144234\n",
      "-------------------------------------\n"
     ]
    },
    {
     "data": {
      "image/png": "[encoded data removed]",
      "text/plain": [
       "<Figure size 432x288 with 10 Axes>"
      ]
     },
     "metadata": {
      "needs_background": "light"
     },
     "output_type": "display_data"
    }
   ],
   "source": [
    "agri_som.train(trunc_data.values,\n",
    "          num_epochs=200,\n",
    "          init_learning_rate=0.01\n",
    "          )"
   ]
  },
  {
   "cell_type": "markdown",
   "metadata": {},
   "source": [
    "Notice: \n",
    "\n",
    "- after 60 Epochs, the network changed from random colors (initialization) to nearly constant color; this means that initial neighbourhood is large, so each neuron’s weight are being adjusted according to data.\n",
    "\n",
    "- Slowly, the network develops different color according to input data structures/patterns, but, you can notice similar colors are neighbors to one another.\n",
    "\n",
    "- Since there was a random initialization, the positions of colors may change but the topology will be preserved."
   ]
  },
  {
   "cell_type": "markdown",
   "metadata": {},
   "source": [
    "## Prediction and Analysis"
   ]
  },
  {
   "cell_type": "code",
   "execution_count": 8,
   "metadata": {},
   "outputs": [
    {
     "data": {
      "text/html": [
       "<div>\n",
       "<style scoped>\n",
       "    .dataframe tbody tr th:only-of-type {\n",
       "        vertical-align: middle;\n",
       "    }\n",
       "\n",
       "    .dataframe tbody tr th {\n",
       "        vertical-align: top;\n",
       "    }\n",
       "\n",
       "    .dataframe thead th {\n",
       "        text-align: right;\n",
       "    }\n",
       "</style>\n",
       "<table border=\"1\" class=\"dataframe\">\n",
       "  <thead>\n",
       "    <tr style=\"text-align: right;\">\n",
       "      <th></th>\n",
       "      <th>Area</th>\n",
       "      <th>Production</th>\n",
       "      <th>Yield</th>\n",
       "      <th>bmu</th>\n",
       "      <th>bmu_idx</th>\n",
       "    </tr>\n",
       "  </thead>\n",
       "  <tbody>\n",
       "    <tr>\n",
       "      <th>0</th>\n",
       "      <td>0.671221</td>\n",
       "      <td>0.035365</td>\n",
       "      <td>0.016336</td>\n",
       "      <td>[[0.8598475069437269, 0.048163281778187496, 0....</td>\n",
       "      <td>[0, 2]</td>\n",
       "    </tr>\n",
       "    <tr>\n",
       "      <th>37</th>\n",
       "      <td>0.677518</td>\n",
       "      <td>0.552887</td>\n",
       "      <td>0.253177</td>\n",
       "      <td>[[0.6563473194582374, 0.5291453980114298, 0.24...</td>\n",
       "      <td>[0, 0]</td>\n",
       "    </tr>\n",
       "    <tr>\n",
       "      <th>97</th>\n",
       "      <td>0.064407</td>\n",
       "      <td>0.006542</td>\n",
       "      <td>0.031504</td>\n",
       "      <td>[[0.05950935498515565, 0.013574388271143831, 0...</td>\n",
       "      <td>[2, 2]</td>\n",
       "    </tr>\n",
       "    <tr>\n",
       "      <th>80</th>\n",
       "      <td>0.312332</td>\n",
       "      <td>0.946083</td>\n",
       "      <td>0.939802</td>\n",
       "      <td>[[0.23007883447609487, 0.6442141411385391, 0.8...</td>\n",
       "      <td>[2, 0]</td>\n",
       "    </tr>\n",
       "    <tr>\n",
       "      <th>8</th>\n",
       "      <td>0.867725</td>\n",
       "      <td>0.039430</td>\n",
       "      <td>0.014099</td>\n",
       "      <td>[[0.8598475069437269, 0.048163281778187496, 0....</td>\n",
       "      <td>[0, 2]</td>\n",
       "    </tr>\n",
       "    <tr>\n",
       "      <th>86</th>\n",
       "      <td>0.104186</td>\n",
       "      <td>0.009870</td>\n",
       "      <td>0.029391</td>\n",
       "      <td>[[0.05950935498515565, 0.013574388271143831, 0...</td>\n",
       "      <td>[2, 2]</td>\n",
       "    </tr>\n",
       "    <tr>\n",
       "      <th>88</th>\n",
       "      <td>0.071176</td>\n",
       "      <td>0.007417</td>\n",
       "      <td>0.032325</td>\n",
       "      <td>[[0.05950935498515565, 0.013574388271143831, 0...</td>\n",
       "      <td>[2, 2]</td>\n",
       "    </tr>\n",
       "    <tr>\n",
       "      <th>62</th>\n",
       "      <td>0.015770</td>\n",
       "      <td>0.001269</td>\n",
       "      <td>0.024965</td>\n",
       "      <td>[[0.05950935498515565, 0.013574388271143831, 0...</td>\n",
       "      <td>[2, 2]</td>\n",
       "    </tr>\n",
       "    <tr>\n",
       "      <th>75</th>\n",
       "      <td>0.243450</td>\n",
       "      <td>0.685703</td>\n",
       "      <td>0.873884</td>\n",
       "      <td>[[0.23007883447609487, 0.6442141411385391, 0.8...</td>\n",
       "      <td>[2, 0]</td>\n",
       "    </tr>\n",
       "    <tr>\n",
       "      <th>7</th>\n",
       "      <td>0.811694</td>\n",
       "      <td>0.036968</td>\n",
       "      <td>0.014123</td>\n",
       "      <td>[[0.8598475069437269, 0.048163281778187496, 0....</td>\n",
       "      <td>[0, 2]</td>\n",
       "    </tr>\n",
       "  </tbody>\n",
       "</table>\n",
       "</div>"
      ],
      "text/plain": [
       "        Area  Production     Yield  \\\n",
       "0   0.671221    0.035365  0.016336   \n",
       "37  0.677518    0.552887  0.253177   \n",
       "97  0.064407    0.006542  0.031504   \n",
       "80  0.312332    0.946083  0.939802   \n",
       "8   0.867725    0.039430  0.014099   \n",
       "86  0.104186    0.009870  0.029391   \n",
       "88  0.071176    0.007417  0.032325   \n",
       "62  0.015770    0.001269  0.024965   \n",
       "75  0.243450    0.685703  0.873884   \n",
       "7   0.811694    0.036968  0.014123   \n",
       "\n",
       "                                                  bmu bmu_idx  \n",
       "0   [[0.8598475069437269, 0.048163281778187496, 0....  [0, 2]  \n",
       "37  [[0.6563473194582374, 0.5291453980114298, 0.24...  [0, 0]  \n",
       "97  [[0.05950935498515565, 0.013574388271143831, 0...  [2, 2]  \n",
       "80  [[0.23007883447609487, 0.6442141411385391, 0.8...  [2, 0]  \n",
       "8   [[0.8598475069437269, 0.048163281778187496, 0....  [0, 2]  \n",
       "86  [[0.05950935498515565, 0.013574388271143831, 0...  [2, 2]  \n",
       "88  [[0.05950935498515565, 0.013574388271143831, 0...  [2, 2]  \n",
       "62  [[0.05950935498515565, 0.013574388271143831, 0...  [2, 2]  \n",
       "75  [[0.23007883447609487, 0.6442141411385391, 0.8...  [2, 0]  \n",
       "7   [[0.8598475069437269, 0.048163281778187496, 0....  [0, 2]  "
      ]
     },
     "execution_count": 8,
     "metadata": {},
     "output_type": "execute_result"
    }
   ],
   "source": [
    "def predict(df):\n",
    "    bmu, bmu_idx = agri_som.find_bmu(df.values)\n",
    "    df['bmu'] = bmu\n",
    "    df['bmu_idx'] = bmu_idx\n",
    "    return df\n",
    "clustered_df = trunc_data.apply(predict, axis=1)\n",
    "clustered_df.iloc[0:10]"
   ]
  },
  {
   "cell_type": "markdown",
   "metadata": {},
   "source": [
    "Now, joininig the labelled initial data"
   ]
  },
  {
   "cell_type": "code",
   "execution_count": 9,
   "metadata": {},
   "outputs": [
    {
     "data": {
      "text/html": [
       "<div>\n",
       "<style scoped>\n",
       "    .dataframe tbody tr th:only-of-type {\n",
       "        vertical-align: middle;\n",
       "    }\n",
       "\n",
       "    .dataframe tbody tr th {\n",
       "        vertical-align: top;\n",
       "    }\n",
       "\n",
       "    .dataframe thead th {\n",
       "        text-align: right;\n",
       "    }\n",
       "</style>\n",
       "<table border=\"1\" class=\"dataframe\">\n",
       "  <thead>\n",
       "    <tr style=\"text-align: right;\">\n",
       "      <th></th>\n",
       "      <th>Year AD</th>\n",
       "      <th>Year BS</th>\n",
       "      <th>Crop</th>\n",
       "      <th>Area</th>\n",
       "      <th>Production</th>\n",
       "      <th>Yield</th>\n",
       "      <th>Area_norm</th>\n",
       "      <th>Production_norm</th>\n",
       "      <th>Yield_norm</th>\n",
       "      <th>bmu</th>\n",
       "      <th>bmu_idx</th>\n",
       "    </tr>\n",
       "  </thead>\n",
       "  <tbody>\n",
       "    <tr>\n",
       "      <th>0</th>\n",
       "      <td>1984/85</td>\n",
       "      <td>2041/42</td>\n",
       "      <td>OILSEED</td>\n",
       "      <td>127820</td>\n",
       "      <td>84030</td>\n",
       "      <td>657</td>\n",
       "      <td>0.671221</td>\n",
       "      <td>0.035365</td>\n",
       "      <td>0.016336</td>\n",
       "      <td>[[0.8598475069437269, 0.048163281778187496, 0....</td>\n",
       "      <td>[0, 2]</td>\n",
       "    </tr>\n",
       "    <tr>\n",
       "      <th>37</th>\n",
       "      <td>2000/2001</td>\n",
       "      <td>2057/58</td>\n",
       "      <td>POTATO</td>\n",
       "      <td>129019</td>\n",
       "      <td>1313717</td>\n",
       "      <td>10182</td>\n",
       "      <td>0.677518</td>\n",
       "      <td>0.552887</td>\n",
       "      <td>0.253177</td>\n",
       "      <td>[[0.6563473194582374, 0.5291453980114298, 0.24...</td>\n",
       "      <td>[0, 0]</td>\n",
       "    </tr>\n",
       "    <tr>\n",
       "      <th>97</th>\n",
       "      <td>1997/98</td>\n",
       "      <td>2054/55</td>\n",
       "      <td>JUTE</td>\n",
       "      <td>12265</td>\n",
       "      <td>15545</td>\n",
       "      <td>1267</td>\n",
       "      <td>0.064407</td>\n",
       "      <td>0.006542</td>\n",
       "      <td>0.031504</td>\n",
       "      <td>[[0.05950935498515565, 0.013574388271143831, 0...</td>\n",
       "      <td>[2, 2]</td>\n",
       "    </tr>\n",
       "    <tr>\n",
       "      <th>80</th>\n",
       "      <td>2001/2002</td>\n",
       "      <td>2058/59</td>\n",
       "      <td>SUGARCANE</td>\n",
       "      <td>59477</td>\n",
       "      <td>2247990</td>\n",
       "      <td>37796</td>\n",
       "      <td>0.312332</td>\n",
       "      <td>0.946083</td>\n",
       "      <td>0.939802</td>\n",
       "      <td>[[0.23007883447609487, 0.6442141411385391, 0.8...</td>\n",
       "      <td>[2, 0]</td>\n",
       "    </tr>\n",
       "    <tr>\n",
       "      <th>8</th>\n",
       "      <td>1992/93</td>\n",
       "      <td>2049/50</td>\n",
       "      <td>OILSEED</td>\n",
       "      <td>165240</td>\n",
       "      <td>93690</td>\n",
       "      <td>567</td>\n",
       "      <td>0.867725</td>\n",
       "      <td>0.039430</td>\n",
       "      <td>0.014099</td>\n",
       "      <td>[[0.8598475069437269, 0.048163281778187496, 0....</td>\n",
       "      <td>[0, 2]</td>\n",
       "    </tr>\n",
       "    <tr>\n",
       "      <th>86</th>\n",
       "      <td>1986/87</td>\n",
       "      <td>2043/44</td>\n",
       "      <td>JUTE</td>\n",
       "      <td>19840</td>\n",
       "      <td>23452</td>\n",
       "      <td>1182</td>\n",
       "      <td>0.104186</td>\n",
       "      <td>0.009870</td>\n",
       "      <td>0.029391</td>\n",
       "      <td>[[0.05950935498515565, 0.013574388271143831, 0...</td>\n",
       "      <td>[2, 2]</td>\n",
       "    </tr>\n",
       "    <tr>\n",
       "      <th>88</th>\n",
       "      <td>1988/89</td>\n",
       "      <td>2045/46</td>\n",
       "      <td>JUTE</td>\n",
       "      <td>13554</td>\n",
       "      <td>17624</td>\n",
       "      <td>1300</td>\n",
       "      <td>0.071176</td>\n",
       "      <td>0.007417</td>\n",
       "      <td>0.032325</td>\n",
       "      <td>[[0.05950935498515565, 0.013574388271143831, 0...</td>\n",
       "      <td>[2, 2]</td>\n",
       "    </tr>\n",
       "    <tr>\n",
       "      <th>62</th>\n",
       "      <td>2004/2005</td>\n",
       "      <td>2061/62</td>\n",
       "      <td>TOBACCO</td>\n",
       "      <td>3003</td>\n",
       "      <td>3016</td>\n",
       "      <td>1004</td>\n",
       "      <td>0.015770</td>\n",
       "      <td>0.001269</td>\n",
       "      <td>0.024965</td>\n",
       "      <td>[[0.05950935498515565, 0.013574388271143831, 0...</td>\n",
       "      <td>[2, 2]</td>\n",
       "    </tr>\n",
       "    <tr>\n",
       "      <th>75</th>\n",
       "      <td>1996/97</td>\n",
       "      <td>2053/54</td>\n",
       "      <td>SUGARCANE</td>\n",
       "      <td>46360</td>\n",
       "      <td>1629300</td>\n",
       "      <td>35145</td>\n",
       "      <td>0.243450</td>\n",
       "      <td>0.685703</td>\n",
       "      <td>0.873884</td>\n",
       "      <td>[[0.23007883447609487, 0.6442141411385391, 0.8...</td>\n",
       "      <td>[2, 0]</td>\n",
       "    </tr>\n",
       "    <tr>\n",
       "      <th>7</th>\n",
       "      <td>1991/92</td>\n",
       "      <td>2048/49</td>\n",
       "      <td>OILSEED</td>\n",
       "      <td>154570</td>\n",
       "      <td>87840</td>\n",
       "      <td>568</td>\n",
       "      <td>0.811694</td>\n",
       "      <td>0.036968</td>\n",
       "      <td>0.014123</td>\n",
       "      <td>[[0.8598475069437269, 0.048163281778187496, 0....</td>\n",
       "      <td>[0, 2]</td>\n",
       "    </tr>\n",
       "  </tbody>\n",
       "</table>\n",
       "</div>"
      ],
      "text/plain": [
       "      Year AD  Year BS       Crop    Area  Production  Yield  Area_norm  \\\n",
       "0     1984/85  2041/42    OILSEED  127820       84030    657   0.671221   \n",
       "37  2000/2001  2057/58     POTATO  129019     1313717  10182   0.677518   \n",
       "97    1997/98  2054/55       JUTE   12265       15545   1267   0.064407   \n",
       "80  2001/2002  2058/59  SUGARCANE   59477     2247990  37796   0.312332   \n",
       "8     1992/93  2049/50    OILSEED  165240       93690    567   0.867725   \n",
       "86    1986/87  2043/44       JUTE   19840       23452   1182   0.104186   \n",
       "88    1988/89  2045/46       JUTE   13554       17624   1300   0.071176   \n",
       "62  2004/2005  2061/62    TOBACCO    3003        3016   1004   0.015770   \n",
       "75    1996/97  2053/54  SUGARCANE   46360     1629300  35145   0.243450   \n",
       "7     1991/92  2048/49    OILSEED  154570       87840    568   0.811694   \n",
       "\n",
       "    Production_norm  Yield_norm  \\\n",
       "0          0.035365    0.016336   \n",
       "37         0.552887    0.253177   \n",
       "97         0.006542    0.031504   \n",
       "80         0.946083    0.939802   \n",
       "8          0.039430    0.014099   \n",
       "86         0.009870    0.029391   \n",
       "88         0.007417    0.032325   \n",
       "62         0.001269    0.024965   \n",
       "75         0.685703    0.873884   \n",
       "7          0.036968    0.014123   \n",
       "\n",
       "                                                  bmu bmu_idx  \n",
       "0   [[0.8598475069437269, 0.048163281778187496, 0....  [0, 2]  \n",
       "37  [[0.6563473194582374, 0.5291453980114298, 0.24...  [0, 0]  \n",
       "97  [[0.05950935498515565, 0.013574388271143831, 0...  [2, 2]  \n",
       "80  [[0.23007883447609487, 0.6442141411385391, 0.8...  [2, 0]  \n",
       "8   [[0.8598475069437269, 0.048163281778187496, 0....  [0, 2]  \n",
       "86  [[0.05950935498515565, 0.013574388271143831, 0...  [2, 2]  \n",
       "88  [[0.05950935498515565, 0.013574388271143831, 0...  [2, 2]  \n",
       "62  [[0.05950935498515565, 0.013574388271143831, 0...  [2, 2]  \n",
       "75  [[0.23007883447609487, 0.6442141411385391, 0.8...  [2, 0]  \n",
       "7   [[0.8598475069437269, 0.048163281778187496, 0....  [0, 2]  "
      ]
     },
     "execution_count": 9,
     "metadata": {},
     "output_type": "execute_result"
    }
   ],
   "source": [
    "joined_df = agri_data.join(clustered_df, rsuffix=\"_norm\")\n",
    "joined_df[0:10]"
   ]
  },
  {
   "cell_type": "markdown",
   "metadata": {},
   "source": [
    "Visualize how the original data gets clustered in the SOM"
   ]
  },
  {
   "cell_type": "code",
   "execution_count": 10,
   "metadata": {},
   "outputs": [
    {
     "data": {
      "image/png": "[encoded data removed]",
      "text/plain": [
       "<Figure size 432x288 with 1 Axes>"
      ]
     },
     "metadata": {
      "needs_background": "light"
     },
     "output_type": "display_data"
    }
   ],
   "source": [
    "from matplotlib import pyplot as plt\n",
    "from matplotlib import patches as patches\n",
    "import matplotlib.lines as mlines\n",
    "\n",
    "fig = plt.figure()\n",
    "# setup axes\n",
    "ax = fig.add_subplot(111)\n",
    "scale = 50\n",
    "ax.set_xlim((0, agri_som.net.shape[0]*scale))\n",
    "ax.set_ylim((0, agri_som.net.shape[1]*scale))\n",
    "ax.set_title(\"Cash Crops Clustering by using SOM\")\n",
    "\n",
    "for x in range(0, agri_som.net.shape[0]):\n",
    "    for y in range(0, agri_som.net.shape[1]):\n",
    "        ax.add_patch(patches.Rectangle((x*scale, y*scale), scale, scale,\n",
    "                     facecolor='white',\n",
    "                     edgecolor='grey'))\n",
    "legend_map = {}\n",
    "        \n",
    "for index, row in joined_df.iterrows():\n",
    "    x_cor = row['bmu_idx'][0] * scale\n",
    "    y_cor = row['bmu_idx'][1] * scale\n",
    "    x_cor = np.random.randint(x_cor, x_cor + scale)\n",
    "    y_cor = np.random.randint(y_cor, y_cor + scale)\n",
    "    color = row['bmu'][0]\n",
    "    marker = \"$\\\\ \" + row['Crop'][0]+\"$\"\n",
    "    marker = marker.lower()\n",
    "    ax.plot(x_cor, y_cor, color=color, marker=marker, markersize=10)\n",
    "    label = row['Crop']\n",
    "    if not label in legend_map:\n",
    "        legend_map[label] =  mlines.Line2D([], [], color='black', marker=marker, linestyle='None',\n",
    "                          markersize=10, label=label)\n",
    "plt.legend(handles=list(legend_map.values()), bbox_to_anchor=(1, 1))\n",
    "plt.show()"
   ]
  },
  {
   "cell_type": "code",
   "execution_count": 11,
   "metadata": {},
   "outputs": [
    {
     "name": "stdout",
     "output_type": "stream",
     "text": [
      "        Area  Production     Yield\n",
      "62  0.015770    0.001269  0.024965\n",
      "43  0.045581    0.001970  0.013402\n",
      "56  0.023221    0.001646  0.021981\n",
      "49  0.034238    0.002527  0.022901\n",
      "55  0.025579    0.001618  0.019619\n",
      "47  0.039962    0.002778  0.021558\n",
      "46  0.038334    0.002264  0.018326\n",
      "53  0.032190    0.002319  0.022354\n",
      "45  0.033976    0.001877  0.017132\n",
      "42  0.044899    0.002706  0.018699\n",
      "44  0.046316    0.002058  0.013775\n",
      "60  0.018889    0.001456  0.023920\n",
      "52  0.031655    0.002292  0.022478\n",
      "61  0.017844    0.001393  0.024219\n",
      "57  0.022491    0.001603  0.022105\n",
      "59  0.020023    0.001584  0.024542\n",
      "54  0.029775    0.001885  0.019643\n",
      "51  0.035404    0.002619  0.022950\n",
      "58  0.022192    0.001672  0.023373\n",
      "48  0.038282    0.002938  0.023796\n",
      "50  0.034974    0.002534  0.022478\n"
     ]
    },
    {
     "name": "stderr",
     "output_type": "stream",
     "text": [
      "C:\\Users\\iCETEE\\AppData\\Local\\Temp\\ipykernel_8852\\2686195632.py:1: UserWarning: Boolean Series key will be reindexed to match DataFrame index.\n",
      "  dataT = trunc_data[data['Crop']=='TOBACCO']\n"
     ]
    }
   ],
   "source": [
    "dataT = trunc_data[data['Crop']=='TOBACCO']\n",
    "print(dataT)"
   ]
  },
  {
   "cell_type": "code",
   "execution_count": 12,
   "metadata": {},
   "outputs": [
    {
     "name": "stdout",
     "output_type": "stream",
     "text": [
      "Area          0.046316\n",
      "Production    0.002938\n",
      "Yield         0.024965\n",
      "dtype: float64\n"
     ]
    }
   ],
   "source": [
    "print(dataT.max())"
   ]
  },
  {
   "cell_type": "code",
   "execution_count": 13,
   "metadata": {},
   "outputs": [
    {
     "name": "stdout",
     "output_type": "stream",
     "text": [
      "Area          0.047262\n",
      "Production    0.004209\n",
      "Yield         0.025959\n",
      "dtype: float64\n"
     ]
    },
    {
     "name": "stderr",
     "output_type": "stream",
     "text": [
      "C:\\Users\\iCETEE\\AppData\\Local\\Temp\\ipykernel_8852\\3067265762.py:1: UserWarning: Boolean Series key will be reindexed to match DataFrame index.\n",
      "  dataT = trunc_data[data['Crop']=='JUTE']\n"
     ]
    }
   ],
   "source": [
    "dataT = trunc_data[data['Crop']=='JUTE']\n",
    "print(dataT.min())"
   ]
  },
  {
   "cell_type": "code",
   "execution_count": 14,
   "metadata": {},
   "outputs": [
    {
     "name": "stdout",
     "output_type": "stream",
     "text": [
      "Area          0.077544\n",
      "Production    0.007860\n",
      "Yield         0.031578\n",
      "dtype: float64\n"
     ]
    }
   ],
   "source": [
    "print(dataT.mean())"
   ]
  },
  {
   "cell_type": "code",
   "execution_count": null,
   "metadata": {
    "collapsed": false,
    "pycharm": {
     "name": "#%%\n"
    }
   },
   "outputs": [],
   "source": []
  }
 ],
 "metadata": {
  "kernelspec": {
   "display_name": "Python 3.8.2 64-bit",
   "metadata": {
    "interpreter": {
     "hash": "31f2aee4e71d21fbe5cf8b01ff0e069b9275f58929596ceb00d14d90e3e16cd6"
    }
   },
   "name": "python3"
  },
  "language_info": {
   "codemirror_mode": {
    "name": "ipython",
    "version": 3
   },
   "file_extension": ".py",
   "mimetype": "text/x-python",
   "name": "python",
   "nbconvert_exporter": "python",
   "pygments_lexer": "ipython3",
   "version": "3.8.12"
  }
 },
 "nbformat": 4,
 "nbformat_minor": 2
}
